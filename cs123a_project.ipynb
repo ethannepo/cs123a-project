{
 "cells": [
  {
   "cell_type": "code",
   "execution_count": 1,
   "metadata": {},
   "outputs": [
    {
     "name": "stdout",
     "output_type": "stream",
     "text": [
      "Requirement already satisfied: seaborn in /Library/Frameworks/Python.framework/Versions/3.13/lib/python3.13/site-packages (0.13.2)\n",
      "Requirement already satisfied: numpy!=1.24.0,>=1.20 in /Library/Frameworks/Python.framework/Versions/3.13/lib/python3.13/site-packages (from seaborn) (2.2.4)\n",
      "Requirement already satisfied: pandas>=1.2 in /Library/Frameworks/Python.framework/Versions/3.13/lib/python3.13/site-packages (from seaborn) (2.2.3)\n",
      "Requirement already satisfied: matplotlib!=3.6.1,>=3.4 in /Library/Frameworks/Python.framework/Versions/3.13/lib/python3.13/site-packages (from seaborn) (3.10.1)\n",
      "Requirement already satisfied: contourpy>=1.0.1 in /Library/Frameworks/Python.framework/Versions/3.13/lib/python3.13/site-packages (from matplotlib!=3.6.1,>=3.4->seaborn) (1.3.2)\n",
      "Requirement already satisfied: cycler>=0.10 in /Library/Frameworks/Python.framework/Versions/3.13/lib/python3.13/site-packages (from matplotlib!=3.6.1,>=3.4->seaborn) (0.12.1)\n",
      "Requirement already satisfied: fonttools>=4.22.0 in /Library/Frameworks/Python.framework/Versions/3.13/lib/python3.13/site-packages (from matplotlib!=3.6.1,>=3.4->seaborn) (4.57.0)\n",
      "Requirement already satisfied: kiwisolver>=1.3.1 in /Library/Frameworks/Python.framework/Versions/3.13/lib/python3.13/site-packages (from matplotlib!=3.6.1,>=3.4->seaborn) (1.4.8)\n",
      "Requirement already satisfied: packaging>=20.0 in /Users/ethannepo/Library/Python/3.13/lib/python/site-packages (from matplotlib!=3.6.1,>=3.4->seaborn) (24.2)\n",
      "Requirement already satisfied: pillow>=8 in /Library/Frameworks/Python.framework/Versions/3.13/lib/python3.13/site-packages (from matplotlib!=3.6.1,>=3.4->seaborn) (11.2.1)\n",
      "Requirement already satisfied: pyparsing>=2.3.1 in /Library/Frameworks/Python.framework/Versions/3.13/lib/python3.13/site-packages (from matplotlib!=3.6.1,>=3.4->seaborn) (3.2.3)\n",
      "Requirement already satisfied: python-dateutil>=2.7 in /Users/ethannepo/Library/Python/3.13/lib/python/site-packages (from matplotlib!=3.6.1,>=3.4->seaborn) (2.9.0.post0)\n",
      "Requirement already satisfied: pytz>=2020.1 in /Library/Frameworks/Python.framework/Versions/3.13/lib/python3.13/site-packages (from pandas>=1.2->seaborn) (2025.2)\n",
      "Requirement already satisfied: tzdata>=2022.7 in /Library/Frameworks/Python.framework/Versions/3.13/lib/python3.13/site-packages (from pandas>=1.2->seaborn) (2025.2)\n",
      "Requirement already satisfied: six>=1.5 in /Users/ethannepo/Library/Python/3.13/lib/python/site-packages (from python-dateutil>=2.7->matplotlib!=3.6.1,>=3.4->seaborn) (1.17.0)\n",
      "\n",
      "\u001b[1m[\u001b[0m\u001b[34;49mnotice\u001b[0m\u001b[1;39;49m]\u001b[0m\u001b[39;49m A new release of pip is available: \u001b[0m\u001b[31;49m25.0.1\u001b[0m\u001b[39;49m -> \u001b[0m\u001b[32;49m25.1\u001b[0m\n",
      "\u001b[1m[\u001b[0m\u001b[34;49mnotice\u001b[0m\u001b[1;39;49m]\u001b[0m\u001b[39;49m To update, run: \u001b[0m\u001b[32;49mpip3 install --upgrade pip\u001b[0m\n",
      "Note: you may need to restart the kernel to use updated packages.\n"
     ]
    }
   ],
   "source": [
    "%pip install seaborn"
   ]
  },
  {
   "cell_type": "code",
   "execution_count": 2,
   "metadata": {},
   "outputs": [
    {
     "name": "stderr",
     "output_type": "stream",
     "text": [
      "/var/folders/ry/cph54fg93lv8wv980w32kpdh0000gn/T/ipykernel_72236/636586816.py:38: SettingWithCopyWarning: \n",
      "A value is trying to be set on a copy of a slice from a DataFrame.\n",
      "Try using .loc[row_indexer,col_indexer] = value instead\n",
      "\n",
      "See the caveats in the documentation: https://pandas.pydata.org/pandas-docs/stable/user_guide/indexing.html#returning-a-view-versus-a-copy\n",
      "  osd_660_cleaned_filtered['Sample Type'] = osd_660_cleaned_filtered['Sample Name'].apply(label_group)\n",
      "/var/folders/ry/cph54fg93lv8wv980w32kpdh0000gn/T/ipykernel_72236/636586816.py:39: SettingWithCopyWarning: \n",
      "A value is trying to be set on a copy of a slice from a DataFrame.\n",
      "Try using .loc[row_indexer,col_indexer] = value instead\n",
      "\n",
      "See the caveats in the documentation: https://pandas.pydata.org/pandas-docs/stable/user_guide/indexing.html#returning-a-view-versus-a-copy\n",
      "  osd_662_cleaned_filtered['Sample Type'] = osd_662_cleaned_filtered['Sample Name'].apply(label_group)\n",
      "/var/folders/ry/cph54fg93lv8wv980w32kpdh0000gn/T/ipykernel_72236/636586816.py:40: SettingWithCopyWarning: \n",
      "A value is trying to be set on a copy of a slice from a DataFrame.\n",
      "Try using .loc[row_indexer,col_indexer] = value instead\n",
      "\n",
      "See the caveats in the documentation: https://pandas.pydata.org/pandas-docs/stable/user_guide/indexing.html#returning-a-view-versus-a-copy\n",
      "  osd_663_cleaned_filtered['Sample Type'] = osd_663_cleaned_filtered['Sample Name'].apply(label_group)\n"
     ]
    }
   ],
   "source": [
    "import pandas as pd\n",
    "from scipy.stats import ttest_ind\n",
    "\n",
    "osd_660_df = pd.read_csv(\"/Users/ethannepo/Desktop/BIOL123 Files/western blots/OSD_660_LSDS-68_western-blot_WesternBlot_TA_TRANSFORMED.csv\")\n",
    "osd_662_df = pd.read_csv(\"/Users/ethannepo/Desktop/BIOL123 Files/western blots/OSD_662_LSDS-75_western-blot_soleus_westernblot_TRANSFORMED.csv\")\n",
    "osd_663_df = pd.read_csv(\"/Users/ethannepo/Desktop/BIOL123 Files/western blots/OSD_663_LSDS-70_western-blot_Western_blot_femur_TRANSFORMED.csv\")\n",
    "osd_664_df = pd.read_csv(\"/Users/ethannepo/Desktop/BIOL123 Files/western blots/OSD_664_LSDS-71_western-blot_Westernblot_EDL_TRANSFORMED.csv\")\n",
    "\n",
    "feature_names = [\"Sample Name\", \"GSK3_beta_content\", \"serine9_phosphorylated_GSK3_beta_content\", \"ratio_of_phosphorylated_serine_9_to_total_GSK3_beta_content_\",\n",
    "                         \"GSK3_alpha_content\", \"serine_21_phosphorylated_GSK3_alpha_content\", \"ratio_of_serine_21_phosphorylated_to_total_GSK3_alpha_content\"]  \n",
    "\n",
    "test_names = [\"GSK3_beta_content\", \"serine9_phosphorylated_GSK3_beta_content\", \"ratio_of_phosphorylated_serine_9_to_total_GSK3_beta_content_\",\n",
    "                         \"GSK3_alpha_content\", \"serine_21_phosphorylated_GSK3_alpha_content\", \"ratio_of_serine_21_phosphorylated_to_total_GSK3_alpha_content\"]  \n",
    "\n",
    "osd_663_feature_names = [\"Sample Name\", \"GSK3_beta_content\", \"serine9_phosphorylated_GSK3_beta_content\", \"ratio_of_phosphorylated_serine_9_to_total_GSK3_beta_content_\"]\n",
    "\n",
    "osd_663_test_names = [\"GSK3_beta_content\", \"serine9_phosphorylated_GSK3_beta_content\", \"ratio_of_phosphorylated_serine_9_to_total_GSK3_beta_content_\"]\n",
    "\n",
    "osd_660_df_filtered = osd_660_df[feature_names]\n",
    "osd_662_df_filtered = osd_662_df[feature_names]\n",
    "osd_663_df_filtered = osd_663_df[osd_663_feature_names]\n",
    "osd_664_df_filtered = osd_664_df[feature_names]\n",
    "\n",
    "osd_660_cleaned_filtered = osd_660_df_filtered.dropna()\n",
    "osd_662_cleaned_filtered = osd_662_df_filtered.dropna()\n",
    "osd_663_cleaned_filtered = osd_663_df_filtered.dropna()\n",
    "osd_664_cleaned_filtered = osd_664_df_filtered.dropna()\n",
    "\n",
    "def label_group(name):\n",
    "    name = name.lower()\n",
    "    if 'viv' in name:\n",
    "        return 0\n",
    "    elif 'f' in name:\n",
    "        return 1\n",
    "    elif 'gc' in name:\n",
    "        return 2\n",
    "    \n",
    "osd_660_cleaned_filtered['Sample Type'] = osd_660_cleaned_filtered['Sample Name'].apply(label_group)\n",
    "osd_662_cleaned_filtered['Sample Type'] = osd_662_cleaned_filtered['Sample Name'].apply(label_group)\n",
    "osd_663_cleaned_filtered['Sample Type'] = osd_663_cleaned_filtered['Sample Name'].apply(label_group)\n",
    "osd_664_cleaned_filtered['Sample Type'] = osd_664_cleaned_filtered['Sample Name'].apply(label_group)\n"
   ]
  },
  {
   "cell_type": "code",
   "execution_count": 3,
   "metadata": {},
   "outputs": [
    {
     "name": "stdout",
     "output_type": "stream",
     "text": [
      "OSD662 GSK3_beta_content: t = -5.10, p = 0.0000\n",
      "OSD662 serine9_phosphorylated_GSK3_beta_content: t = -2.60, p = 0.0127\n"
     ]
    }
   ],
   "source": [
    "for feature in test_names:\n",
    "    flight_660 = osd_660_cleaned_filtered[osd_660_cleaned_filtered['Sample Type'] == 1][feature]\n",
    "    ground_control_660 = osd_660_cleaned_filtered[osd_660_cleaned_filtered['Sample Type'] == 2][feature]\n",
    "    \n",
    "    t_stat, p_val = ttest_ind(flight_660, ground_control_660)\n",
    "    if p_val < .05:\n",
    "        print(f\"OSD660 {feature}: t = {t_stat:.2f}, p = {p_val:.4f}\")\n",
    "\n",
    "for feature in test_names:\n",
    "    flight_662 = osd_662_cleaned_filtered[osd_662_cleaned_filtered['Sample Type'] == 1][feature]\n",
    "    ground_control_662 = osd_662_cleaned_filtered[osd_662_cleaned_filtered['Sample Type'] == 2][feature]\n",
    "    \n",
    "    t_stat, p_val = ttest_ind(flight_662, ground_control_662)\n",
    "    if p_val < .05:\n",
    "        print(f\"OSD662 {feature}: t = {t_stat:.2f}, p = {p_val:.4f}\")\n",
    "\n",
    "for feature in osd_663_test_names:\n",
    "    flight_663 = osd_663_cleaned_filtered[osd_663_cleaned_filtered['Sample Type'] == 1][feature]\n",
    "    ground_control_663 = osd_663_cleaned_filtered[osd_663_cleaned_filtered['Sample Type'] == 2][feature]\n",
    "    \n",
    "    t_stat, p_val = ttest_ind(flight_663, ground_control_663)\n",
    "    if p_val < .05:\n",
    "        print(f\"OSD663 {feature}: t = {t_stat:.2f}, p = {p_val:.4f}\")\n",
    "\n",
    "for feature in test_names:\n",
    "    flight_664 = osd_664_cleaned_filtered[osd_664_cleaned_filtered['Sample Type'] == 1][feature]\n",
    "    ground_control_664 = osd_664_cleaned_filtered[osd_664_cleaned_filtered['Sample Type'] == 2][feature]\n",
    "    \n",
    "    t_stat, p_val = ttest_ind(flight_664, ground_control_664)\n",
    "    if p_val < .05:\n",
    "        print(f\"OSD664 {feature}: t = {t_stat:.2f}, p = {p_val:.4f}\")"
   ]
  },
  {
   "cell_type": "code",
   "execution_count": 11,
   "metadata": {},
   "outputs": [
    {
     "data": {
      "image/png": "[encoded data removed]",
      "text/plain": [
       "<Figure size 640x480 with 1 Axes>"
      ]
     },
     "metadata": {},
     "output_type": "display_data"
    },
    {
     "data": {
      "image/png": "[encoded data removed]",
      "text/plain": [
       "<Figure size 640x480 with 1 Axes>"
      ]
     },
     "metadata": {},
     "output_type": "display_data"
    }
   ],
   "source": [
    "import seaborn as sns\n",
    "import matplotlib.pyplot as plt\n",
    "\n",
    "\n",
    "sns.boxplot(x='Sample Type', y='GSK3_beta_content', data=osd_662_cleaned_filtered[osd_662_cleaned_filtered['Sample Type'] >= 1])\n",
    "plt.title('GSK3 Beta Content by Condition')\n",
    "plt.xlabel('Condition, 1 = Flight 2 = Ground Control')\n",
    "plt.ylabel('GSK3 Expression')\n",
    "plt.show()\n",
    "\n",
    "sns.boxplot(x='Sample Type', y='serine9_phosphorylated_GSK3_beta_content', data=osd_662_cleaned_filtered[osd_662_cleaned_filtered['Sample Type'] >= 1])\n",
    "plt.title('Serine9 Phosphorylated GSK3 Beta Content by Condition')\n",
    "plt.xlabel('Condition, 1 = Flight 2 = Ground Control')\n",
    "plt.ylabel('GSK3 Expression')\n",
    "plt.show()"
   ]
  },
  {
   "cell_type": "code",
   "execution_count": 5,
   "metadata": {},
   "outputs": [
    {
     "name": "stdout",
     "output_type": "stream",
     "text": [
      "[[1 1 1]\n",
      " [0 1 1]\n",
      " [0 0 0]]\n",
      "              precision    recall  f1-score   support\n",
      "\n",
      "           0       1.00      0.33      0.50         3\n",
      "           1       0.50      0.50      0.50         2\n",
      "           2       0.00      0.00      0.00         0\n",
      "\n",
      "    accuracy                           0.40         5\n",
      "   macro avg       0.50      0.28      0.33         5\n",
      "weighted avg       0.80      0.40      0.50         5\n",
      "\n"
     ]
    },
    {
     "name": "stderr",
     "output_type": "stream",
     "text": [
      "/Library/Frameworks/Python.framework/Versions/3.13/lib/python3.13/site-packages/sklearn/metrics/_classification.py:1565: UndefinedMetricWarning: Recall is ill-defined and being set to 0.0 in labels with no true samples. Use `zero_division` parameter to control this behavior.\n",
      "  _warn_prf(average, modifier, f\"{metric.capitalize()} is\", len(result))\n",
      "/Library/Frameworks/Python.framework/Versions/3.13/lib/python3.13/site-packages/sklearn/metrics/_classification.py:1565: UndefinedMetricWarning: Recall is ill-defined and being set to 0.0 in labels with no true samples. Use `zero_division` parameter to control this behavior.\n",
      "  _warn_prf(average, modifier, f\"{metric.capitalize()} is\", len(result))\n",
      "/Library/Frameworks/Python.framework/Versions/3.13/lib/python3.13/site-packages/sklearn/metrics/_classification.py:1565: UndefinedMetricWarning: Recall is ill-defined and being set to 0.0 in labels with no true samples. Use `zero_division` parameter to control this behavior.\n",
      "  _warn_prf(average, modifier, f\"{metric.capitalize()} is\", len(result))\n"
     ]
    }
   ],
   "source": [
    "from sklearn.ensemble import RandomForestClassifier\n",
    "from sklearn.model_selection import train_test_split\n",
    "from sklearn.metrics import classification_report, confusion_matrix\n",
    "\n",
    "X_660 = osd_660_cleaned_filtered[test_names]\n",
    "y_660 = osd_660_cleaned_filtered['Sample Type']\n",
    "\n",
    "X_train_660, X_test_660, y_train_660, y_test_660 = train_test_split(X_660, y_660, test_size=0.2, random_state=0)\n",
    "\n",
    "forest_660 = RandomForestClassifier(n_estimators=100, random_state=14)\n",
    "forest_660.fit(X_train_660, y_train_660)\n",
    "\n",
    "y_pred_660 = forest_660.predict(X_test_660)\n",
    "print(confusion_matrix(y_test_660, y_pred_660))\n",
    "print(classification_report(y_test_660, y_pred_660))\n"
   ]
  },
  {
   "cell_type": "code",
   "execution_count": 6,
   "metadata": {},
   "outputs": [
    {
     "name": "stdout",
     "output_type": "stream",
     "text": [
      "[[3 2 0]\n",
      " [0 4 1]\n",
      " [1 2 2]]\n",
      "              precision    recall  f1-score   support\n",
      "\n",
      "           0       0.75      0.60      0.67         5\n",
      "           1       0.50      0.80      0.62         5\n",
      "           2       0.67      0.40      0.50         5\n",
      "\n",
      "    accuracy                           0.60        15\n",
      "   macro avg       0.64      0.60      0.59        15\n",
      "weighted avg       0.64      0.60      0.59        15\n",
      "\n"
     ]
    }
   ],
   "source": [
    "X_662 = osd_662_cleaned_filtered[test_names]\n",
    "y_662 = osd_662_cleaned_filtered['Sample Type']\n",
    "\n",
    "X_train_662, X_test_662, y_train_662, y_test_662 = train_test_split(X_662, y_662, test_size=0.2, random_state=0)\n",
    "\n",
    "forest_662 = RandomForestClassifier(n_estimators=100, random_state=14)\n",
    "forest_662.fit(X_train_662, y_train_662)\n",
    "\n",
    "y_pred_662 = forest_662.predict(X_test_662)\n",
    "print(confusion_matrix(y_test_662, y_pred_662))\n",
    "print(classification_report(y_test_662, y_pred_662))"
   ]
  },
  {
   "cell_type": "code",
   "execution_count": 7,
   "metadata": {},
   "outputs": [
    {
     "name": "stdout",
     "output_type": "stream",
     "text": [
      "[[0 1 2]\n",
      " [0 0 0]\n",
      " [0 0 1]]\n",
      "              precision    recall  f1-score   support\n",
      "\n",
      "           0       0.00      0.00      0.00         3\n",
      "           1       0.00      0.00      0.00         0\n",
      "           2       0.33      1.00      0.50         1\n",
      "\n",
      "    accuracy                           0.25         4\n",
      "   macro avg       0.11      0.33      0.17         4\n",
      "weighted avg       0.08      0.25      0.12         4\n",
      "\n"
     ]
    },
    {
     "name": "stderr",
     "output_type": "stream",
     "text": [
      "/Library/Frameworks/Python.framework/Versions/3.13/lib/python3.13/site-packages/sklearn/metrics/_classification.py:1565: UndefinedMetricWarning: Precision is ill-defined and being set to 0.0 in labels with no predicted samples. Use `zero_division` parameter to control this behavior.\n",
      "  _warn_prf(average, modifier, f\"{metric.capitalize()} is\", len(result))\n",
      "/Library/Frameworks/Python.framework/Versions/3.13/lib/python3.13/site-packages/sklearn/metrics/_classification.py:1565: UndefinedMetricWarning: Recall is ill-defined and being set to 0.0 in labels with no true samples. Use `zero_division` parameter to control this behavior.\n",
      "  _warn_prf(average, modifier, f\"{metric.capitalize()} is\", len(result))\n",
      "/Library/Frameworks/Python.framework/Versions/3.13/lib/python3.13/site-packages/sklearn/metrics/_classification.py:1565: UndefinedMetricWarning: Precision is ill-defined and being set to 0.0 in labels with no predicted samples. Use `zero_division` parameter to control this behavior.\n",
      "  _warn_prf(average, modifier, f\"{metric.capitalize()} is\", len(result))\n",
      "/Library/Frameworks/Python.framework/Versions/3.13/lib/python3.13/site-packages/sklearn/metrics/_classification.py:1565: UndefinedMetricWarning: Recall is ill-defined and being set to 0.0 in labels with no true samples. Use `zero_division` parameter to control this behavior.\n",
      "  _warn_prf(average, modifier, f\"{metric.capitalize()} is\", len(result))\n",
      "/Library/Frameworks/Python.framework/Versions/3.13/lib/python3.13/site-packages/sklearn/metrics/_classification.py:1565: UndefinedMetricWarning: Precision is ill-defined and being set to 0.0 in labels with no predicted samples. Use `zero_division` parameter to control this behavior.\n",
      "  _warn_prf(average, modifier, f\"{metric.capitalize()} is\", len(result))\n",
      "/Library/Frameworks/Python.framework/Versions/3.13/lib/python3.13/site-packages/sklearn/metrics/_classification.py:1565: UndefinedMetricWarning: Recall is ill-defined and being set to 0.0 in labels with no true samples. Use `zero_division` parameter to control this behavior.\n",
      "  _warn_prf(average, modifier, f\"{metric.capitalize()} is\", len(result))\n"
     ]
    }
   ],
   "source": [
    "X_663 = osd_663_cleaned_filtered[osd_663_test_names]\n",
    "y_663 = osd_663_cleaned_filtered['Sample Type']\n",
    "\n",
    "X_train_663, X_test_663, y_train_663, y_test_663 = train_test_split(X_663, y_663, test_size=0.2, random_state=0)\n",
    "\n",
    "forest_663 = RandomForestClassifier(n_estimators=100, random_state=14)\n",
    "forest_663.fit(X_train_663, y_train_663)\n",
    "\n",
    "y_pred_663 = forest_663.predict(X_test_663)\n",
    "print(confusion_matrix(y_test_663, y_pred_663))\n",
    "print(classification_report(y_test_663, y_pred_663))"
   ]
  },
  {
   "cell_type": "code",
   "execution_count": 8,
   "metadata": {},
   "outputs": [
    {
     "name": "stdout",
     "output_type": "stream",
     "text": [
      "[[1 1 0]\n",
      " [0 0 0]\n",
      " [0 1 0]]\n",
      "              precision    recall  f1-score   support\n",
      "\n",
      "           0       1.00      0.50      0.67         2\n",
      "           1       0.00      0.00      0.00         0\n",
      "           2       0.00      0.00      0.00         1\n",
      "\n",
      "    accuracy                           0.33         3\n",
      "   macro avg       0.33      0.17      0.22         3\n",
      "weighted avg       0.67      0.33      0.44         3\n",
      "\n"
     ]
    },
    {
     "name": "stderr",
     "output_type": "stream",
     "text": [
      "/Library/Frameworks/Python.framework/Versions/3.13/lib/python3.13/site-packages/sklearn/metrics/_classification.py:1565: UndefinedMetricWarning: Precision is ill-defined and being set to 0.0 in labels with no predicted samples. Use `zero_division` parameter to control this behavior.\n",
      "  _warn_prf(average, modifier, f\"{metric.capitalize()} is\", len(result))\n",
      "/Library/Frameworks/Python.framework/Versions/3.13/lib/python3.13/site-packages/sklearn/metrics/_classification.py:1565: UndefinedMetricWarning: Recall is ill-defined and being set to 0.0 in labels with no true samples. Use `zero_division` parameter to control this behavior.\n",
      "  _warn_prf(average, modifier, f\"{metric.capitalize()} is\", len(result))\n",
      "/Library/Frameworks/Python.framework/Versions/3.13/lib/python3.13/site-packages/sklearn/metrics/_classification.py:1565: UndefinedMetricWarning: Precision is ill-defined and being set to 0.0 in labels with no predicted samples. Use `zero_division` parameter to control this behavior.\n",
      "  _warn_prf(average, modifier, f\"{metric.capitalize()} is\", len(result))\n",
      "/Library/Frameworks/Python.framework/Versions/3.13/lib/python3.13/site-packages/sklearn/metrics/_classification.py:1565: UndefinedMetricWarning: Recall is ill-defined and being set to 0.0 in labels with no true samples. Use `zero_division` parameter to control this behavior.\n",
      "  _warn_prf(average, modifier, f\"{metric.capitalize()} is\", len(result))\n",
      "/Library/Frameworks/Python.framework/Versions/3.13/lib/python3.13/site-packages/sklearn/metrics/_classification.py:1565: UndefinedMetricWarning: Precision is ill-defined and being set to 0.0 in labels with no predicted samples. Use `zero_division` parameter to control this behavior.\n",
      "  _warn_prf(average, modifier, f\"{metric.capitalize()} is\", len(result))\n",
      "/Library/Frameworks/Python.framework/Versions/3.13/lib/python3.13/site-packages/sklearn/metrics/_classification.py:1565: UndefinedMetricWarning: Recall is ill-defined and being set to 0.0 in labels with no true samples. Use `zero_division` parameter to control this behavior.\n",
      "  _warn_prf(average, modifier, f\"{metric.capitalize()} is\", len(result))\n"
     ]
    }
   ],
   "source": [
    "X_664 = osd_664_cleaned_filtered[test_names]\n",
    "y_664 = osd_664_cleaned_filtered['Sample Type']\n",
    "\n",
    "X_train_664, X_test_664, y_train_664, y_test_664 = train_test_split(X_664, y_664, test_size=0.2, random_state=0)\n",
    "\n",
    "forest_664 = RandomForestClassifier(n_estimators=100, random_state=14)\n",
    "forest_664.fit(X_train_664, y_train_664)\n",
    "\n",
    "y_pred_664 = forest_664.predict(X_test_664)\n",
    "print(confusion_matrix(y_test_664, y_pred_664))\n",
    "print(classification_report(y_test_664, y_pred_664))\n"
   ]
  }
 ],
 "metadata": {
  "kernelspec": {
   "display_name": "Python 3",
   "language": "python",
   "name": "python3"
  },
  "language_info": {
   "codemirror_mode": {
    "name": "ipython",
    "version": 3
   },
   "file_extension": ".py",
   "mimetype": "text/x-python",
   "name": "python",
   "nbconvert_exporter": "python",
   "pygments_lexer": "ipython3",
   "version": "3.13.3"
  }
 },
 "nbformat": 4,
 "nbformat_minor": 2
}
